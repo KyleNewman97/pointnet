{
 "cells": [
  {
   "cell_type": "markdown",
   "id": "c39b6fc2",
   "metadata": {},
   "source": [
    "### T-Net investigation\n",
    "PointNet contains a T-Net architecture that returns a 3x3 rotation transformation\n",
    "matrix. The hypothesis is that the T-Net will learn to transform arbitrarily rotated\n",
    "points into the right orientation, so that the downstream networks are orientation\n",
    "independent."
   ]
  },
  {
   "cell_type": "code",
   "execution_count": null,
   "id": "61ad1be7",
   "metadata": {},
   "outputs": [],
   "source": [
    "from pathlib import Path\n",
    "\n",
    "import torch\n",
    "import matplotlib.pyplot as plt\n",
    "from torchvision.datasets import MNIST\n",
    "\n",
    "from pointnet.data import MNIST3DDataset, RandomRotationTransform\n",
    "from pointnet.model import ClassificationPointNet"
   ]
  },
  {
   "cell_type": "code",
   "execution_count": null,
   "id": "94340cd1",
   "metadata": {},
   "outputs": [],
   "source": [
    "# Dataset settings\n",
    "DATASET_PATH = Path(\"\")\n",
    "\n",
    "# Model settings\n",
    "DEVICE = torch.device(\"cpu\")\n",
    "MODEL_PATH = Path(\"\")"
   ]
  },
  {
   "cell_type": "code",
   "execution_count": null,
   "id": "bbe2f67b",
   "metadata": {},
   "outputs": [],
   "source": [
    "# Load in a trained model\n",
    "model = ClassificationPointNet.load(MODEL_PATH)\n",
    "model = model.to(device=DEVICE)\n",
    "model.eval()"
   ]
  },
  {
   "cell_type": "code",
   "execution_count": null,
   "id": "c4356963",
   "metadata": {},
   "outputs": [],
   "source": [
    "# Load in the dataset\n",
    "valid_mnist = MNIST(DATASET_PATH, train=False, download=True)\n",
    "valid_dataset = MNIST3DDataset(\n",
    "    valid_mnist,\n",
    "    model.num_points,\n",
    "    DEVICE,\n",
    "    model.dtype,\n",
    "    [RandomRotationTransform()],\n",
    ")"
   ]
  },
  {
   "cell_type": "code",
   "execution_count": null,
   "id": "44e8a8ff",
   "metadata": {},
   "outputs": [],
   "source": [
    "%matplotlib widget\n",
    "number = 5\n",
    "num_samples = 6\n",
    "\n",
    "fig, axes = plt.subplots(\n",
    "    num_samples, 2, subplot_kw={\"projection\": \"3d\"}, figsize=(6, 12)\n",
    ")\n",
    "axes[1, 0]\n",
    "idx = 0\n",
    "for row in range(num_samples):\n",
    "    points, label = valid_dataset[idx]\n",
    "    while label.item() != number:\n",
    "        idx += 1\n",
    "        points, label = valid_dataset[idx]\n",
    "    points = points.unsqueeze(0)\n",
    "    idx += 1\n",
    "\n",
    "    axes[row, 0].scatter(points[0, 1, :], points[0, 0, :], points[0, 2, :])\n",
    "    axes[row, 0].set_title(f\"Sample: {idx - 1}\")\n",
    "    axes[row, 0].set_xlabel(\"x\")\n",
    "    axes[row, 0].set_ylabel(\"y\")\n",
    "    axes[row, 0].set_zlabel(\"z\")\n",
    "    axes[row, 0].set_xlim(-12, 12)\n",
    "    axes[row, 0].set_ylim(-12, 12)\n",
    "    axes[row, 0].set_zlim(-12, 12)\n",
    "\n",
    "    with torch.no_grad():\n",
    "        input_transform = model.backbone.input_transform.forward(points)\n",
    "        trans_points = torch.bmm(input_transform, points)\n",
    "\n",
    "    axes[row, 1].scatter(\n",
    "        trans_points[0, 1, :], trans_points[0, 0, :], trans_points[0, 2, :]\n",
    "    )\n",
    "    axes[row, 1].set_title(f\"Sample: {idx - 1}\")\n",
    "    axes[row, 1].set_xlabel(\"x\")\n",
    "    axes[row, 1].set_ylabel(\"y\")\n",
    "    axes[row, 1].set_zlabel(\"z\")"
   ]
  },
  {
   "cell_type": "code",
   "execution_count": null,
   "id": "e90a8e5b",
   "metadata": {},
   "outputs": [],
   "source": []
  }
 ],
 "metadata": {
  "kernelspec": {
   "display_name": "pointnet-3.11 (3.11.13)",
   "language": "python",
   "name": "python3"
  },
  "language_info": {
   "codemirror_mode": {
    "name": "ipython",
    "version": 3
   },
   "file_extension": ".py",
   "mimetype": "text/x-python",
   "name": "python",
   "nbconvert_exporter": "python",
   "pygments_lexer": "ipython3",
   "version": "3.11.13"
  }
 },
 "nbformat": 4,
 "nbformat_minor": 5
}
