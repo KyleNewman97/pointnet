{
 "cells": [
  {
   "cell_type": "markdown",
   "id": "3643f1a5",
   "metadata": {},
   "source": [
    "## MNIST 3D dataset"
   ]
  },
  {
   "cell_type": "code",
   "execution_count": null,
   "id": "b9972c21",
   "metadata": {},
   "outputs": [],
   "source": [
    "from pathlib import Path\n",
    "\n",
    "import torch\n",
    "import matplotlib.pyplot as plt\n",
    "import numpy as np\n",
    "from torchvision.datasets import MNIST\n",
    "\n",
    "from pointnet.data import MNIST3DDataset"
   ]
  },
  {
   "cell_type": "code",
   "execution_count": null,
   "id": "d4916790",
   "metadata": {},
   "outputs": [],
   "source": [
    "dataset_2d = MNIST(\n",
    "    root=Path(\"/mnt/data/code/experiments/lidar/pointnet/data/\"), \n",
    "    train=True, \n",
    "    download=True,\n",
    ")"
   ]
  },
  {
   "cell_type": "markdown",
   "id": "22cb84a0",
   "metadata": {},
   "source": [
    "### Visualise point distribution"
   ]
  },
  {
   "cell_type": "code",
   "execution_count": null,
   "id": "85917a3f",
   "metadata": {},
   "outputs": [],
   "source": [
    "# Find the number of pixels per image that are white\n",
    "num_white_pixels: list[int] = []\n",
    "for image, label in dataset_2d:\n",
    "    np_image = np.asarray(image)\n",
    "    num_white_pixels.append((np_image > 127).sum())"
   ]
  },
  {
   "cell_type": "code",
   "execution_count": null,
   "id": "4892b32b",
   "metadata": {},
   "outputs": [],
   "source": [
    "plt.hist(num_white_pixels)\n",
    "plt.grid()\n",
    "plt.title(\"Distribution of white pixels per image\")\n",
    "plt.xlabel(\"Number of white pixels\")\n",
    "plt.ylabel(\"Frequency\")\n",
    "\n",
    "print(\"Minimum number of white pixels:\", min(num_white_pixels))\n",
    "print(\"Maximum number of white pixels:\", max(num_white_pixels))"
   ]
  },
  {
   "cell_type": "markdown",
   "id": "2a02c6ca",
   "metadata": {},
   "source": [
    "### Visualise samples"
   ]
  },
  {
   "cell_type": "code",
   "execution_count": null,
   "id": "bb9ee4e7",
   "metadata": {},
   "outputs": [],
   "source": [
    "# Define dataset contants\n",
    "num_points = 200\n",
    "device = torch.device(\"cpu\")\n",
    "dtype = torch.float32\n",
    "\n",
    "dataset = MNIST3DDataset(dataset_2d, num_points, device, dtype)"
   ]
  },
  {
   "cell_type": "code",
   "execution_count": null,
   "id": "432a3d1f",
   "metadata": {},
   "outputs": [],
   "source": [
    "%matplotlib widget\n",
    "points, label = dataset[2]\n",
    "\n",
    "fig = plt.figure()\n",
    "ax = fig.add_subplot(111, projection=\"3d\")\n",
    "ax.scatter(points[:, 1], points[:, 0], points[:, 2], cmap=\"viridis\") # type: ignore\n",
    "ax.set_title(f\"Number: {label}\")\n",
    "ax.set_xlabel(\"x\")\n",
    "ax.set_ylabel(\"y\")\n",
    "ax.set_zlabel(\"z\")\n",
    "ax.set_xlim(0, 24)\n",
    "ax.set_ylim(0, 24)\n",
    "ax.set_zlim(-12, 12)"
   ]
  },
  {
   "cell_type": "code",
   "execution_count": null,
   "id": "46bb93e4",
   "metadata": {},
   "outputs": [],
   "source": []
  }
 ],
 "metadata": {
  "kernelspec": {
   "display_name": "pointnet-3.11 (3.11.13)",
   "language": "python",
   "name": "python3"
  },
  "language_info": {
   "codemirror_mode": {
    "name": "ipython",
    "version": 3
   },
   "file_extension": ".py",
   "mimetype": "text/x-python",
   "name": "python",
   "nbconvert_exporter": "python",
   "pygments_lexer": "ipython3",
   "version": "3.11.13"
  }
 },
 "nbformat": 4,
 "nbformat_minor": 5
}
