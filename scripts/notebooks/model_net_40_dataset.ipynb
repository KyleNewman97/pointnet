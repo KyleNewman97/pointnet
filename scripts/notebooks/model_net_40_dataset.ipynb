{
 "cells": [
  {
   "cell_type": "markdown",
   "id": "19bb2bd2",
   "metadata": {},
   "source": [
    "## ModelNet40 dataset\n",
    "Downloads and prepares the ModelNet40 dataset."
   ]
  },
  {
   "cell_type": "code",
   "execution_count": null,
   "id": "b9b3eadf",
   "metadata": {},
   "outputs": [],
   "source": [
    "from collections import defaultdict\n",
    "from pathlib import Path\n",
    "\n",
    "import kagglehub\n",
    "import matplotlib.pyplot as plt\n",
    "import numpy as np\n",
    "from pydantic import BaseModel\n",
    "\n",
    "from pointnet.structs import Split"
   ]
  },
  {
   "cell_type": "code",
   "execution_count": null,
   "id": "edc24c12",
   "metadata": {},
   "outputs": [],
   "source": [
    "# Download latest version\n",
    "path = kagglehub.dataset_download(\"balraj98/modelnet40-princeton-3d-object-dataset\")\n",
    "dataset_dir = Path(path)"
   ]
  },
  {
   "cell_type": "markdown",
   "id": "57a892b7",
   "metadata": {},
   "source": [
    "### Read in the dataset CSV"
   ]
  },
  {
   "cell_type": "code",
   "execution_count": null,
   "id": "6133d210",
   "metadata": {},
   "outputs": [],
   "source": [
    "class DataSample(BaseModel):\n",
    "    object_id: str\n",
    "    class_name: str\n",
    "    split: Split\n",
    "    object_path: Path"
   ]
  },
  {
   "cell_type": "code",
   "execution_count": null,
   "id": "d82b8843",
   "metadata": {},
   "outputs": [],
   "source": [
    "# Find the dataset CSV file\n",
    "dataset_csv = list(dataset_dir.glob(\"*.csv\"))[0]\n",
    "\n",
    "samples: dict[Split, list[DataSample]] = defaultdict(list)\n",
    "with open(dataset_csv, \"r\") as fp:\n",
    "    lines = fp.read().split(\"\\n\")[1:]\n",
    "\n",
    "    for line in lines:\n",
    "        elements = line.split(\",\")\n",
    "        if len(elements) != 4:\n",
    "            continue\n",
    "\n",
    "        split = Split(elements[2])\n",
    "        samples[split].append(\n",
    "            DataSample(\n",
    "                object_id=elements[0],\n",
    "                class_name=elements[1],\n",
    "                split=split,\n",
    "                object_path=dataset_dir / \"ModelNet40\" / elements[3],\n",
    "            )\n",
    "        )"
   ]
  },
  {
   "cell_type": "markdown",
   "id": "0c32e1f8",
   "metadata": {},
   "source": [
    "### Read in OFF file"
   ]
  },
  {
   "cell_type": "code",
   "execution_count": null,
   "id": "b06b78c0",
   "metadata": {},
   "outputs": [],
   "source": [
    "sample = samples[Split.TRAIN][1]\n",
    "with open(sample.object_path, \"r\") as fp:\n",
    "    # Ensure first line contains \"OFF\"\n",
    "    first_line = fp.readline().strip()\n",
    "    if first_line != \"OFF\":\n",
    "        raise RuntimeError(\"Invalid first line in OFF file.\")\n",
    "\n",
    "    # Read counts\n",
    "    num_verts, _, _ = fp.readline().strip().split(\" \")\n",
    "    num_verts = int(num_verts)\n",
    "\n",
    "    points = np.zeros((3, num_verts), dtype=np.float32)\n",
    "    for idx in range(num_verts):\n",
    "        points[:, idx] = [float(val) for val in fp.readline().strip().split(\" \")]"
   ]
  },
  {
   "cell_type": "code",
   "execution_count": null,
   "id": "7fbb48f2",
   "metadata": {},
   "outputs": [],
   "source": [
    "%matplotlib widget\n",
    "\n",
    "fig = plt.figure()\n",
    "ax = fig.add_subplot(111, projection=\"3d\")\n",
    "ax.scatter(points[1, :], points[0, :], points[2, :])  # type: ignore\n",
    "ax.set_title(f\"Number: {sample.class_name}\")\n",
    "ax.set_xlabel(\"x\")\n",
    "ax.set_ylabel(\"y\")\n",
    "ax.set_zlabel(\"z\")"
   ]
  },
  {
   "cell_type": "code",
   "execution_count": null,
   "id": "3fdf2e61",
   "metadata": {},
   "outputs": [],
   "source": [
    "import torch\n",
    "\n",
    "x = torch.rand((3, 200))\n",
    "\n",
    "indices = torch.randint(0, x.shape[1], (300,))\n",
    "x[:, indices].shape"
   ]
  },
  {
   "cell_type": "code",
   "execution_count": null,
   "id": "c7811631",
   "metadata": {},
   "outputs": [],
   "source": [
    "x = {\"hello\", \"what\", \"now\", \"you\", \"goose\"}\n",
    "sorted(x)"
   ]
  },
  {
   "cell_type": "code",
   "execution_count": null,
   "id": "84d8f0c7",
   "metadata": {},
   "outputs": [],
   "source": []
  }
 ],
 "metadata": {
  "kernelspec": {
   "display_name": "pointnet-3.11 (3.11.13)",
   "language": "python",
   "name": "python3"
  },
  "language_info": {
   "codemirror_mode": {
    "name": "ipython",
    "version": 3
   },
   "file_extension": ".py",
   "mimetype": "text/x-python",
   "name": "python",
   "nbconvert_exporter": "python",
   "pygments_lexer": "ipython3",
   "version": "3.11.13"
  }
 },
 "nbformat": 4,
 "nbformat_minor": 5
}
