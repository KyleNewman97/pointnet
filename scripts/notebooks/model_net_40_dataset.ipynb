 "cells": [
  {
   "cell_type": "markdown",
   "id": "19bb2bd2",
   "metadata": {},
   "source": [
    "## ModelNet40 dataset\n",
    "Downloads and prepares the ModelNet40 dataset."
   ]
  },
  {
   "cell_type": "code",
   "execution_count": null,
   "id": "b9b3eadf",
   "metadata": {},
   "outputs": [],
   "source": [
    "from enum import Enum\n",
    "from pathlib import Path\n",
    "\n",
    "import kagglehub\n",
    "from pydantic import BaseModel"
   ]
  },
  {
   "cell_type": "code",
   "execution_count": null,
   "id": "edc24c12",
   "metadata": {},
   "outputs": [],
   "source": [
    "# Download latest version\n",
    "path = kagglehub.dataset_download(\"balraj98/modelnet40-princeton-3d-object-dataset\")\n",
    "dataset_dir = Path(path)"
   ]
  },
  {
   "cell_type": "markdown",
   "id": "57a892b7",
   "metadata": {},
   "source": [
    "### Read in the dataset CSV"
   ]
  },
  {
   "cell_type": "code",
   "execution_count": null,
   "id": "6133d210",
   "metadata": {},
   "outputs": [],
   "source": [
    "class Split(str, Enum):\n",
    "    TRAIN = \"train\"\n",
    "    TEST = \"test\"\n",
    "\n",
    "\n",
    "class DataSample(BaseModel):\n",
    "    object_id: str\n",
    "    class_name: str\n",
    "    split: Split\n",
    "    object_path: Path"
   ]
  },
  {
   "cell_type": "code",
   "execution_count": null,
   "id": "d82b8843",
   "metadata": {},
   "outputs": [],
   "source": [
    "# Find the dataset CSV file\n",
    "dataset_csv = list(dataset_dir.glob(\"*.csv\"))[0]\n",
    "\n",
    "samples: list[DataSample] = []\n",
    "with open(dataset_csv, \"r\") as fp:\n",
    "    lines = fp.read().split(\"\\n\")[1:]\n",
    "\n",
    "    for line in lines:\n",
    "        elements = line.split(\",\")\n",
    "        if len(elements) != 4:\n",
    "            continue\n",
    "\n",
    "        samples.append(\n",
    "            DataSample(\n",
    "                object_id=elements[0],\n",
    "                class_name=elements[1],\n",
    "                split=Split(elements[2]),\n",
    "                object_path=Path(elements[3]),\n",
    "            )\n",
    "        )"
   ]
  },
  {
   "cell_type": "code",
   "execution_count": null,
   "id": "f84d75c5",
   "metadata": {},
   "outputs": [],
   "source": [
    "import numpy as np\n",
    "from scipy.spatial.transform import Rotation as R\n",
    "\n",
    "# Generate a random rotation\n",
    "rot = R.random()\n",
    "\n",
    "# Get the 3x3 rotation matrix\n",
    "rotation_matrix = rot.as_matrix()\n",
    "print(rotation_matrix.shape)"
   ]
  },
  {
   "cell_type": "code",
   "execution_count": null,
   "id": "d897932f",
   "metadata": {},
   "outputs": [],
   "source": []
  }
 ],
 "metadata": {
  "kernelspec": {
   "display_name": "pointnet-3.11 (3.11.13)",
   "language": "python",
   "name": "python3"
  },
  "language_info": {
   "codemirror_mode": {
    "name": "ipython",
    "version": 3
   },
   "file_extension": ".py",
   "mimetype": "text/x-python",
   "name": "python",
   "nbconvert_exporter": "python",
   "pygments_lexer": "ipython3",
   "version": "3.11.13"
  }
 },
 "nbformat": 4,
 "nbformat_minor": 5
}
